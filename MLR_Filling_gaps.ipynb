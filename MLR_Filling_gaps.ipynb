{
 "cells": [
  {
   "cell_type": "markdown",
   "id": "6d38568c",
   "metadata": {},
   "source": [
    "## MLR for filling gaps in GWL data\n"
   ]
  },
  {
   "cell_type": "markdown",
   "id": "f484dddc",
   "metadata": {},
   "source": [
    "Fill the gaps in groundwater levels with a multiple linear regression considering the closest wells until a defined distance"
   ]
  },
  {
   "cell_type": "code",
   "execution_count": 1,
   "id": "b124a15e",
   "metadata": {},
   "outputs": [],
   "source": [
    "from functions import *\n",
    "import warnings\n",
    "warnings.filterwarnings('ignore')"
   ]
  },
  {
   "cell_type": "code",
   "execution_count": 2,
   "id": "94fd8349",
   "metadata": {},
   "outputs": [],
   "source": [
    "#Load groundwater data as a dataframe with the well ids and the time series information\n",
    "rpath=\"C:/Users/GomezOspina.M/MGO/\" #Root path\n",
    "gwdata=pd.read_pickle(rpath+\"/data/Pickle/gwdata.pkl\") \n",
    "\n",
    "#load shapefile of stations\n",
    "gws=gpd.read_file(rpath+\"/data/GIS/SHP/GWL_CDID.shp\")"
   ]
  },
  {
   "cell_type": "code",
   "execution_count": 3,
   "id": "fc774a32",
   "metadata": {},
   "outputs": [],
   "source": [
    "#A pre-filter might be important to not fill information \n",
    "#with a gap greater than a year or even 6 months\n",
    "gwt=gwdata.loc[gwdata[\"max_gap\"]<190] "
   ]
  },
  {
   "cell_type": "code",
   "execution_count": 4,
   "id": "535ccc73",
   "metadata": {},
   "outputs": [],
   "source": [
    "#List of well id's to be filled\n",
    "lwellid=gwt.wellid.values"
   ]
  },
  {
   "cell_type": "markdown",
   "id": "99dbcfaa",
   "metadata": {},
   "source": [
    "### Fill data"
   ]
  },
  {
   "cell_type": "code",
   "execution_count": 5,
   "id": "48f5f819",
   "metadata": {},
   "outputs": [
    {
     "name": "stdout",
     "output_type": "stream",
     "text": [
      "empty\n",
      "empty\n",
      "empty\n",
      "empty\n",
      "empty\n",
      "empty\n",
      "No wells avaialble for model prediction\n"
     ]
    },
    {
     "ename": "TypeError",
     "evalue": "'NoneType' object is not subscriptable",
     "output_type": "error",
     "traceback": [
      "\u001b[1;31m---------------------------------------------------------------------------\u001b[0m",
      "\u001b[1;31mTypeError\u001b[0m                                 Traceback (most recent call last)",
      "\u001b[1;32m~\\AppData\\Local\\Temp\\5\\ipykernel_22768\\3823075604.py\u001b[0m in \u001b[0;36m<cell line: 4>\u001b[1;34m()\u001b[0m\n\u001b[0;32m      3\u001b[0m \u001b[0mlgwfill\u001b[0m\u001b[1;33m=\u001b[0m\u001b[1;33m[\u001b[0m\u001b[1;33m]\u001b[0m\u001b[1;33m\u001b[0m\u001b[1;33m\u001b[0m\u001b[0m\n\u001b[0;32m      4\u001b[0m \u001b[1;32mfor\u001b[0m \u001b[0mw\u001b[0m \u001b[1;32min\u001b[0m \u001b[0mlwellid\u001b[0m\u001b[1;33m:\u001b[0m\u001b[1;33m\u001b[0m\u001b[1;33m\u001b[0m\u001b[0m\n\u001b[1;32m----> 5\u001b[1;33m     \u001b[0mlgwfill\u001b[0m\u001b[1;33m.\u001b[0m\u001b[0mappend\u001b[0m\u001b[1;33m(\u001b[0m\u001b[0mdwfill\u001b[0m\u001b[1;33m.\u001b[0m\u001b[0mMLRmodel\u001b[0m\u001b[1;33m(\u001b[0m\u001b[0mtwell\u001b[0m\u001b[1;33m=\u001b[0m\u001b[0mw\u001b[0m\u001b[1;33m)\u001b[0m\u001b[1;33m[\u001b[0m\u001b[1;36m0\u001b[0m\u001b[1;33m]\u001b[0m\u001b[1;33m)\u001b[0m\u001b[1;33m\u001b[0m\u001b[1;33m\u001b[0m\u001b[0m\n\u001b[0m",
      "\u001b[1;31mTypeError\u001b[0m: 'NoneType' object is not subscriptable"
     ]
    }
   ],
   "source": [
    "dwfill=fillGWgaps(gwdata,gws, maxd=2*10e3,th=98, maxn=8 )\n",
    "\n",
    "lgwfill=[]\n",
    "for w in lwellid:\n",
    "    lgwfill.append(dwfill.MLRmodel(twell=w)[0])"
   ]
  },
  {
   "cell_type": "code",
   "execution_count": 9,
   "id": "6362e035",
   "metadata": {},
   "outputs": [
    {
     "name": "stdout",
     "output_type": "stream",
     "text": [
      "empty\n",
      "empty\n",
      "No wells avaialble for model prediction\n"
     ]
    }
   ],
   "source": [
    "c=dwfill.MLRmodel(twell=w)"
   ]
  },
  {
   "cell_type": "code",
   "execution_count": 9,
   "id": "a7ea8560",
   "metadata": {},
   "outputs": [
    {
     "data": {
      "text/plain": [
       "0.7497193438502734"
      ]
     },
     "execution_count": 9,
     "metadata": {},
     "output_type": "execute_result"
    }
   ],
   "source": [
    "#MLR accuracy\n",
    "gwfill[1]"
   ]
  },
  {
   "cell_type": "code",
   "execution_count": null,
   "id": "bf801c5b",
   "metadata": {},
   "outputs": [],
   "source": []
  }
 ],
 "metadata": {
  "kernelspec": {
   "display_name": "Python 3 (ipykernel)",
   "language": "python",
   "name": "python3"
  },
  "language_info": {
   "codemirror_mode": {
    "name": "ipython",
    "version": 3
   },
   "file_extension": ".py",
   "mimetype": "text/x-python",
   "name": "python",
   "nbconvert_exporter": "python",
   "pygments_lexer": "ipython3",
   "version": "3.8.12"
  }
 },
 "nbformat": 4,
 "nbformat_minor": 5
}
