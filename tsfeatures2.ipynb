{
 "cells": [
  {
   "cell_type": "code",
   "execution_count": 1,
   "id": "aaddb1b4",
   "metadata": {},
   "outputs": [],
   "source": [
    "import tsfel\n",
    "%matplotlib notebook\n",
    "import pandas as pd\n",
    "import geopandas as gpd\n",
    "from scipy import stats\n",
    "import warnings\n",
    "warnings.simplefilter(action='ignore', category=Warning)\n",
    "import numpy as np"
   ]
  },
  {
   "cell_type": "code",
   "execution_count": 2,
   "id": "93bae730",
   "metadata": {},
   "outputs": [],
   "source": [
    "#Read Pickle\n",
    "rpath=\"D:/Erasmus/Thesis/data\"\n",
    "GWfilldatamod=pd.read_pickle(rpath+\"/Pickle/GWfilldatamod2.pkl\")\n",
    "gw_sel_int=gpd.read_file(rpath+\"/SHP/SHP2/gw_sel_int.shp\")"
   ]
  },
  {
   "cell_type": "code",
   "execution_count": 3,
   "id": "f40b550f",
   "metadata": {},
   "outputs": [],
   "source": [
    "dfraw=GWfilldatamod.GW_NN[1]\n",
    "df=dfraw[[dfraw.columns[0],dfraw.columns[-1]]]\n",
    "df[\"id\"]=[dfraw.columns[-1]]*len(df)  #give the unique code as the library requested it \n",
    "dfc=df.copy()\n",
    "dfc.rename(columns={dfraw.columns[0]: \"time\", dfraw.columns[-1]: \"y\"}, inplace=True)"
   ]
  },
  {
   "cell_type": "code",
   "execution_count": 14,
   "id": "4b341561",
   "metadata": {},
   "outputs": [
    {
     "name": "stdout",
     "output_type": "stream",
     "text": [
      "*** Feature extraction started ***\n",
      "60\n"
     ]
    },
    {
     "data": {
      "text/html": [
       "\n",
       "              <p>\n",
       "                  Progress: 100% Complete\n",
       "              <p/>            \n",
       "              <progress\n",
       "                  value='60'\n",
       "                  max='60',\n",
       "                  style='width: 25%',\n",
       "              >\n",
       "                  60\n",
       "              </progress>\n",
       "\n",
       "    "
      ],
      "text/plain": [
       "<IPython.core.display.HTML object>"
      ]
     },
     "metadata": {},
     "output_type": "display_data"
    }
   ],
   "source": [
    "cfg_file = tsfel.get_features_by_domain()       # If no argument is passed retrieves all available features\n",
    "X_train = tsfel.time_series_features_extractor(cfg_file, dfc[\"y\"], fs=30)"
   ]
  },
  {
   "cell_type": "code",
   "execution_count": 15,
   "id": "aa14eb8c",
   "metadata": {},
   "outputs": [
    {
     "data": {
      "text/html": [
       "<div>\n",
       "<style scoped>\n",
       "    .dataframe tbody tr th:only-of-type {\n",
       "        vertical-align: middle;\n",
       "    }\n",
       "\n",
       "    .dataframe tbody tr th {\n",
       "        vertical-align: top;\n",
       "    }\n",
       "\n",
       "    .dataframe thead th {\n",
       "        text-align: right;\n",
       "    }\n",
       "</style>\n",
       "<table border=\"1\" class=\"dataframe\">\n",
       "  <thead>\n",
       "    <tr style=\"text-align: right;\">\n",
       "      <th></th>\n",
       "      <th>0_FFT mean coefficient_0</th>\n",
       "      <th>0_FFT mean coefficient_1</th>\n",
       "      <th>0_FFT mean coefficient_2</th>\n",
       "      <th>0_FFT mean coefficient_3</th>\n",
       "      <th>0_FFT mean coefficient_4</th>\n",
       "      <th>0_FFT mean coefficient_5</th>\n",
       "      <th>0_FFT mean coefficient_6</th>\n",
       "      <th>0_FFT mean coefficient_7</th>\n",
       "      <th>0_FFT mean coefficient_8</th>\n",
       "      <th>0_FFT mean coefficient_9</th>\n",
       "      <th>...</th>\n",
       "      <th>0_Median diff</th>\n",
       "      <th>0_Negative turning points</th>\n",
       "      <th>0_Neighbourhood peaks</th>\n",
       "      <th>0_Peak to peak distance</th>\n",
       "      <th>0_Positive turning points</th>\n",
       "      <th>0_Signal distance</th>\n",
       "      <th>0_Slope</th>\n",
       "      <th>0_Sum absolute diff</th>\n",
       "      <th>0_Total energy</th>\n",
       "      <th>0_Zero crossing rate</th>\n",
       "    </tr>\n",
       "  </thead>\n",
       "  <tbody>\n",
       "    <tr>\n",
       "      <th>0</th>\n",
       "      <td>0.000258</td>\n",
       "      <td>0.085638</td>\n",
       "      <td>0.013706</td>\n",
       "      <td>0.019082</td>\n",
       "      <td>0.022543</td>\n",
       "      <td>0.072128</td>\n",
       "      <td>0.151497</td>\n",
       "      <td>0.287887</td>\n",
       "      <td>0.219377</td>\n",
       "      <td>0.627616</td>\n",
       "      <td>...</td>\n",
       "      <td>0.0</td>\n",
       "      <td>96.0</td>\n",
       "      <td>20.0</td>\n",
       "      <td>1.1</td>\n",
       "      <td>92.0</td>\n",
       "      <td>481.226129</td>\n",
       "      <td>-0.000124</td>\n",
       "      <td>60.767162</td>\n",
       "      <td>18.860529</td>\n",
       "      <td>0.0</td>\n",
       "    </tr>\n",
       "  </tbody>\n",
       "</table>\n",
       "<p>1 rows × 373 columns</p>\n",
       "</div>"
      ],
      "text/plain": [
       "   0_FFT mean coefficient_0  0_FFT mean coefficient_1  \\\n",
       "0                  0.000258                  0.085638   \n",
       "\n",
       "   0_FFT mean coefficient_2  0_FFT mean coefficient_3  \\\n",
       "0                  0.013706                  0.019082   \n",
       "\n",
       "   0_FFT mean coefficient_4  0_FFT mean coefficient_5  \\\n",
       "0                  0.022543                  0.072128   \n",
       "\n",
       "   0_FFT mean coefficient_6  0_FFT mean coefficient_7  \\\n",
       "0                  0.151497                  0.287887   \n",
       "\n",
       "   0_FFT mean coefficient_8  0_FFT mean coefficient_9  ...  0_Median diff  \\\n",
       "0                  0.219377                  0.627616  ...            0.0   \n",
       "\n",
       "   0_Negative turning points  0_Neighbourhood peaks  0_Peak to peak distance  \\\n",
       "0                       96.0                   20.0                      1.1   \n",
       "\n",
       "   0_Positive turning points  0_Signal distance   0_Slope  \\\n",
       "0                       92.0         481.226129 -0.000124   \n",
       "\n",
       "   0_Sum absolute diff  0_Total energy  0_Zero crossing rate  \n",
       "0            60.767162       18.860529                   0.0  \n",
       "\n",
       "[1 rows x 373 columns]"
      ]
     },
     "execution_count": 15,
     "metadata": {},
     "output_type": "execute_result"
    }
   ],
   "source": [
    "X_train"
   ]
  },
  {
   "cell_type": "code",
   "execution_count": null,
   "id": "a65ba7f5",
   "metadata": {},
   "outputs": [],
   "source": []
  }
 ],
 "metadata": {
  "kernelspec": {
   "display_name": "Python 3 (ipykernel)",
   "language": "python",
   "name": "python3"
  },
  "language_info": {
   "codemirror_mode": {
    "name": "ipython",
    "version": 3
   },
   "file_extension": ".py",
   "mimetype": "text/x-python",
   "name": "python",
   "nbconvert_exporter": "python",
   "pygments_lexer": "ipython3",
   "version": "3.10.4"
  }
 },
 "nbformat": 4,
 "nbformat_minor": 5
}
